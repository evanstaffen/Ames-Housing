{
 "cells": [
  {
   "cell_type": "markdown",
   "metadata": {},
   "source": [
    "## Final Project Submission\n",
    "\n",
    "Please fill out:\n",
    "* Student name: Evan Staffen\n",
    "* Student pace: self paced / part time / full time\n",
    "* Scheduled project review date/time: \n",
    "* Instructor name: Joseph Mata\n",
    "* Blog post URL:\n"
   ]
  },
  {
   "cell_type": "markdown",
   "metadata": {},
   "source": [
    "# Business Problem"
   ]
  },
  {
   "cell_type": "markdown",
   "metadata": {},
   "source": [
    "The Johnson's recently had their first child. While they have loved living in New York City, they've decided that they would like a slower paced lifestyle and more space for their kid. I have been assigned to help them find a house that matches their needs, is affordable and in Kings County, Washington. I will be creating a predictive algorithm that can take in features of a house and return a sale price. "
   ]
  },
  {
   "cell_type": "markdown",
   "metadata": {},
   "source": [
    "# Imports"
   ]
  },
  {
   "cell_type": "code",
   "execution_count": 325,
   "metadata": {},
   "outputs": [],
   "source": [
    "import pandas as pd\n",
    "import math\n",
    "import matplotlib.pyplot as plt\n",
    "import seaborn as sns\n",
    "import numpy as np\n",
    "from scipy import stats as stats\n",
    "import statsmodels.api as sm\n",
    "from statsmodels.formula.api import ols\n",
    "from sklearn.preprocessing import OneHotEncoder\n",
    "from sklearn.preprocessing import OrdinalEncoder\n",
    "from sklearn.preprocessing import OneHotEncoder\n",
    "from sklearn.model_selection import train_test_split\n",
    "from sklearn.preprocessing import StandardScaler\n",
    "from sklearn.metrics import r2_score, mean_squared_error, mean_absolute_error\n",
    "from sklearn.linear_model import LinearRegression\n",
    "sns.set_style(\"whitegrid\")\n"
   ]
  },
  {
   "cell_type": "markdown",
   "metadata": {},
   "source": [
    "#  Kings County Housing Dataset"
   ]
  },
  {
   "cell_type": "code",
   "execution_count": 326,
   "metadata": {},
   "outputs": [],
   "source": [
    "df = pd.read_csv('data/kc_house_data.csv')\n"
   ]
  },
  {
   "cell_type": "markdown",
   "metadata": {},
   "source": [
    "# Exploratory Data Analysis"
   ]
  },
  {
   "cell_type": "code",
   "execution_count": 327,
   "metadata": {},
   "outputs": [
    {
     "data": {
      "text/html": [
       "<div>\n",
       "<style scoped>\n",
       "    .dataframe tbody tr th:only-of-type {\n",
       "        vertical-align: middle;\n",
       "    }\n",
       "\n",
       "    .dataframe tbody tr th {\n",
       "        vertical-align: top;\n",
       "    }\n",
       "\n",
       "    .dataframe thead th {\n",
       "        text-align: right;\n",
       "    }\n",
       "</style>\n",
       "<table border=\"1\" class=\"dataframe\">\n",
       "  <thead>\n",
       "    <tr style=\"text-align: right;\">\n",
       "      <th></th>\n",
       "      <th>id</th>\n",
       "      <th>date</th>\n",
       "      <th>price</th>\n",
       "      <th>bedrooms</th>\n",
       "      <th>bathrooms</th>\n",
       "      <th>sqft_living</th>\n",
       "      <th>sqft_lot</th>\n",
       "      <th>floors</th>\n",
       "      <th>waterfront</th>\n",
       "      <th>view</th>\n",
       "      <th>...</th>\n",
       "      <th>grade</th>\n",
       "      <th>sqft_above</th>\n",
       "      <th>sqft_basement</th>\n",
       "      <th>yr_built</th>\n",
       "      <th>yr_renovated</th>\n",
       "      <th>zipcode</th>\n",
       "      <th>lat</th>\n",
       "      <th>long</th>\n",
       "      <th>sqft_living15</th>\n",
       "      <th>sqft_lot15</th>\n",
       "    </tr>\n",
       "  </thead>\n",
       "  <tbody>\n",
       "    <tr>\n",
       "      <th>0</th>\n",
       "      <td>7129300520</td>\n",
       "      <td>10/13/2014</td>\n",
       "      <td>221900.0</td>\n",
       "      <td>3</td>\n",
       "      <td>1.00</td>\n",
       "      <td>1180</td>\n",
       "      <td>5650</td>\n",
       "      <td>1.0</td>\n",
       "      <td>NaN</td>\n",
       "      <td>NONE</td>\n",
       "      <td>...</td>\n",
       "      <td>7 Average</td>\n",
       "      <td>1180</td>\n",
       "      <td>0.0</td>\n",
       "      <td>1955</td>\n",
       "      <td>0.0</td>\n",
       "      <td>98178</td>\n",
       "      <td>47.5112</td>\n",
       "      <td>-122.257</td>\n",
       "      <td>1340</td>\n",
       "      <td>5650</td>\n",
       "    </tr>\n",
       "    <tr>\n",
       "      <th>1</th>\n",
       "      <td>6414100192</td>\n",
       "      <td>12/9/2014</td>\n",
       "      <td>538000.0</td>\n",
       "      <td>3</td>\n",
       "      <td>2.25</td>\n",
       "      <td>2570</td>\n",
       "      <td>7242</td>\n",
       "      <td>2.0</td>\n",
       "      <td>NO</td>\n",
       "      <td>NONE</td>\n",
       "      <td>...</td>\n",
       "      <td>7 Average</td>\n",
       "      <td>2170</td>\n",
       "      <td>400.0</td>\n",
       "      <td>1951</td>\n",
       "      <td>1991.0</td>\n",
       "      <td>98125</td>\n",
       "      <td>47.7210</td>\n",
       "      <td>-122.319</td>\n",
       "      <td>1690</td>\n",
       "      <td>7639</td>\n",
       "    </tr>\n",
       "    <tr>\n",
       "      <th>2</th>\n",
       "      <td>5631500400</td>\n",
       "      <td>2/25/2015</td>\n",
       "      <td>180000.0</td>\n",
       "      <td>2</td>\n",
       "      <td>1.00</td>\n",
       "      <td>770</td>\n",
       "      <td>10000</td>\n",
       "      <td>1.0</td>\n",
       "      <td>NO</td>\n",
       "      <td>NONE</td>\n",
       "      <td>...</td>\n",
       "      <td>6 Low Average</td>\n",
       "      <td>770</td>\n",
       "      <td>0.0</td>\n",
       "      <td>1933</td>\n",
       "      <td>NaN</td>\n",
       "      <td>98028</td>\n",
       "      <td>47.7379</td>\n",
       "      <td>-122.233</td>\n",
       "      <td>2720</td>\n",
       "      <td>8062</td>\n",
       "    </tr>\n",
       "    <tr>\n",
       "      <th>3</th>\n",
       "      <td>2487200875</td>\n",
       "      <td>12/9/2014</td>\n",
       "      <td>604000.0</td>\n",
       "      <td>4</td>\n",
       "      <td>3.00</td>\n",
       "      <td>1960</td>\n",
       "      <td>5000</td>\n",
       "      <td>1.0</td>\n",
       "      <td>NO</td>\n",
       "      <td>NONE</td>\n",
       "      <td>...</td>\n",
       "      <td>7 Average</td>\n",
       "      <td>1050</td>\n",
       "      <td>910.0</td>\n",
       "      <td>1965</td>\n",
       "      <td>0.0</td>\n",
       "      <td>98136</td>\n",
       "      <td>47.5208</td>\n",
       "      <td>-122.393</td>\n",
       "      <td>1360</td>\n",
       "      <td>5000</td>\n",
       "    </tr>\n",
       "    <tr>\n",
       "      <th>4</th>\n",
       "      <td>1954400510</td>\n",
       "      <td>2/18/2015</td>\n",
       "      <td>510000.0</td>\n",
       "      <td>3</td>\n",
       "      <td>2.00</td>\n",
       "      <td>1680</td>\n",
       "      <td>8080</td>\n",
       "      <td>1.0</td>\n",
       "      <td>NO</td>\n",
       "      <td>NONE</td>\n",
       "      <td>...</td>\n",
       "      <td>8 Good</td>\n",
       "      <td>1680</td>\n",
       "      <td>0.0</td>\n",
       "      <td>1987</td>\n",
       "      <td>0.0</td>\n",
       "      <td>98074</td>\n",
       "      <td>47.6168</td>\n",
       "      <td>-122.045</td>\n",
       "      <td>1800</td>\n",
       "      <td>7503</td>\n",
       "    </tr>\n",
       "  </tbody>\n",
       "</table>\n",
       "<p>5 rows × 21 columns</p>\n",
       "</div>"
      ],
      "text/plain": [
       "           id        date     price  bedrooms  bathrooms  sqft_living  \\\n",
       "0  7129300520  10/13/2014  221900.0         3       1.00         1180   \n",
       "1  6414100192   12/9/2014  538000.0         3       2.25         2570   \n",
       "2  5631500400   2/25/2015  180000.0         2       1.00          770   \n",
       "3  2487200875   12/9/2014  604000.0         4       3.00         1960   \n",
       "4  1954400510   2/18/2015  510000.0         3       2.00         1680   \n",
       "\n",
       "   sqft_lot  floors waterfront  view  ...          grade sqft_above  \\\n",
       "0      5650     1.0        NaN  NONE  ...      7 Average       1180   \n",
       "1      7242     2.0         NO  NONE  ...      7 Average       2170   \n",
       "2     10000     1.0         NO  NONE  ...  6 Low Average        770   \n",
       "3      5000     1.0         NO  NONE  ...      7 Average       1050   \n",
       "4      8080     1.0         NO  NONE  ...         8 Good       1680   \n",
       "\n",
       "   sqft_basement yr_built  yr_renovated  zipcode      lat     long  \\\n",
       "0            0.0     1955           0.0    98178  47.5112 -122.257   \n",
       "1          400.0     1951        1991.0    98125  47.7210 -122.319   \n",
       "2            0.0     1933           NaN    98028  47.7379 -122.233   \n",
       "3          910.0     1965           0.0    98136  47.5208 -122.393   \n",
       "4            0.0     1987           0.0    98074  47.6168 -122.045   \n",
       "\n",
       "   sqft_living15  sqft_lot15  \n",
       "0           1340        5650  \n",
       "1           1690        7639  \n",
       "2           2720        8062  \n",
       "3           1360        5000  \n",
       "4           1800        7503  \n",
       "\n",
       "[5 rows x 21 columns]"
      ]
     },
     "execution_count": 327,
     "metadata": {},
     "output_type": "execute_result"
    }
   ],
   "source": [
    "df.head(5)"
   ]
  },
  {
   "cell_type": "code",
   "execution_count": 328,
   "metadata": {},
   "outputs": [
    {
     "name": "stdout",
     "output_type": "stream",
     "text": [
      "<class 'pandas.core.frame.DataFrame'>\n",
      "RangeIndex: 21597 entries, 0 to 21596\n",
      "Data columns (total 21 columns):\n",
      " #   Column         Non-Null Count  Dtype  \n",
      "---  ------         --------------  -----  \n",
      " 0   id             21597 non-null  int64  \n",
      " 1   date           21597 non-null  object \n",
      " 2   price          21597 non-null  float64\n",
      " 3   bedrooms       21597 non-null  int64  \n",
      " 4   bathrooms      21597 non-null  float64\n",
      " 5   sqft_living    21597 non-null  int64  \n",
      " 6   sqft_lot       21597 non-null  int64  \n",
      " 7   floors         21597 non-null  float64\n",
      " 8   waterfront     19221 non-null  object \n",
      " 9   view           21534 non-null  object \n",
      " 10  condition      21597 non-null  object \n",
      " 11  grade          21597 non-null  object \n",
      " 12  sqft_above     21597 non-null  int64  \n",
      " 13  sqft_basement  21597 non-null  object \n",
      " 14  yr_built       21597 non-null  int64  \n",
      " 15  yr_renovated   17755 non-null  float64\n",
      " 16  zipcode        21597 non-null  int64  \n",
      " 17  lat            21597 non-null  float64\n",
      " 18  long           21597 non-null  float64\n",
      " 19  sqft_living15  21597 non-null  int64  \n",
      " 20  sqft_lot15     21597 non-null  int64  \n",
      "dtypes: float64(6), int64(9), object(6)\n",
      "memory usage: 3.5+ MB\n"
     ]
    }
   ],
   "source": [
    "df.info()"
   ]
  },
  {
   "cell_type": "markdown",
   "metadata": {},
   "source": [
    "This dataset has 21 column and 21597 rows. Almost all of the columns are numeric values. Waterfront and yr_renovated seem to be the columns with the most missing values. The view column is missing 63 values."
   ]
  },
  {
   "cell_type": "markdown",
   "metadata": {},
   "source": []
  },
  {
   "cell_type": "code",
   "execution_count": 329,
   "metadata": {},
   "outputs": [
    {
     "data": {
      "text/plain": [
       "id                  0\n",
       "date                0\n",
       "price               0\n",
       "bedrooms            0\n",
       "bathrooms           0\n",
       "sqft_living         0\n",
       "sqft_lot            0\n",
       "floors              0\n",
       "waterfront       2376\n",
       "view               63\n",
       "condition           0\n",
       "grade               0\n",
       "sqft_above          0\n",
       "sqft_basement       0\n",
       "yr_built            0\n",
       "yr_renovated     3842\n",
       "zipcode             0\n",
       "lat                 0\n",
       "long                0\n",
       "sqft_living15       0\n",
       "sqft_lot15          0\n",
       "dtype: int64"
      ]
     },
     "execution_count": 329,
     "metadata": {},
     "output_type": "execute_result"
    }
   ],
   "source": [
    "df.isna().sum()"
   ]
  },
  {
   "cell_type": "code",
   "execution_count": 330,
   "metadata": {},
   "outputs": [
    {
     "data": {
      "text/plain": [
       "0"
      ]
     },
     "execution_count": 330,
     "metadata": {},
     "output_type": "execute_result"
    }
   ],
   "source": [
    "df.duplicated().sum()"
   ]
  },
  {
   "cell_type": "markdown",
   "metadata": {},
   "source": [
    "We do still have to deal with the missing values of the dataset, although we will get back to that when we are cleaning the dataset.\n",
    "\n"
   ]
  },
  {
   "cell_type": "markdown",
   "metadata": {},
   "source": [
    "Looks like the columns pertaining to squarefeet seem to have extreme max values.\n",
    "Clearly the maximum for bedrooms (33) is either an extreme outlier or an imputation error.\n",
    "Another clear trend is that most houses were built before the 2000s."
   ]
  },
  {
   "cell_type": "code",
   "execution_count": 331,
   "metadata": {},
   "outputs": [
    {
     "data": {
      "text/html": [
       "<div>\n",
       "<style scoped>\n",
       "    .dataframe tbody tr th:only-of-type {\n",
       "        vertical-align: middle;\n",
       "    }\n",
       "\n",
       "    .dataframe tbody tr th {\n",
       "        vertical-align: top;\n",
       "    }\n",
       "\n",
       "    .dataframe thead th {\n",
       "        text-align: right;\n",
       "    }\n",
       "</style>\n",
       "<table border=\"1\" class=\"dataframe\">\n",
       "  <thead>\n",
       "    <tr style=\"text-align: right;\">\n",
       "      <th></th>\n",
       "      <th>id</th>\n",
       "      <th>price</th>\n",
       "      <th>bedrooms</th>\n",
       "      <th>bathrooms</th>\n",
       "      <th>sqft_living</th>\n",
       "      <th>sqft_lot</th>\n",
       "      <th>floors</th>\n",
       "      <th>sqft_above</th>\n",
       "      <th>yr_built</th>\n",
       "      <th>yr_renovated</th>\n",
       "      <th>zipcode</th>\n",
       "      <th>lat</th>\n",
       "      <th>long</th>\n",
       "      <th>sqft_living15</th>\n",
       "      <th>sqft_lot15</th>\n",
       "    </tr>\n",
       "  </thead>\n",
       "  <tbody>\n",
       "    <tr>\n",
       "      <th>count</th>\n",
       "      <td>2.159700e+04</td>\n",
       "      <td>2.159700e+04</td>\n",
       "      <td>21597.000000</td>\n",
       "      <td>21597.000000</td>\n",
       "      <td>21597.000000</td>\n",
       "      <td>2.159700e+04</td>\n",
       "      <td>21597.000000</td>\n",
       "      <td>21597.000000</td>\n",
       "      <td>21597.000000</td>\n",
       "      <td>17755.000000</td>\n",
       "      <td>21597.000000</td>\n",
       "      <td>21597.000000</td>\n",
       "      <td>21597.000000</td>\n",
       "      <td>21597.000000</td>\n",
       "      <td>21597.000000</td>\n",
       "    </tr>\n",
       "    <tr>\n",
       "      <th>mean</th>\n",
       "      <td>4.580474e+09</td>\n",
       "      <td>5.402966e+05</td>\n",
       "      <td>3.373200</td>\n",
       "      <td>2.115826</td>\n",
       "      <td>2080.321850</td>\n",
       "      <td>1.509941e+04</td>\n",
       "      <td>1.494096</td>\n",
       "      <td>1788.596842</td>\n",
       "      <td>1970.999676</td>\n",
       "      <td>83.636778</td>\n",
       "      <td>98077.951845</td>\n",
       "      <td>47.560093</td>\n",
       "      <td>-122.213982</td>\n",
       "      <td>1986.620318</td>\n",
       "      <td>12758.283512</td>\n",
       "    </tr>\n",
       "    <tr>\n",
       "      <th>std</th>\n",
       "      <td>2.876736e+09</td>\n",
       "      <td>3.673681e+05</td>\n",
       "      <td>0.926299</td>\n",
       "      <td>0.768984</td>\n",
       "      <td>918.106125</td>\n",
       "      <td>4.141264e+04</td>\n",
       "      <td>0.539683</td>\n",
       "      <td>827.759761</td>\n",
       "      <td>29.375234</td>\n",
       "      <td>399.946414</td>\n",
       "      <td>53.513072</td>\n",
       "      <td>0.138552</td>\n",
       "      <td>0.140724</td>\n",
       "      <td>685.230472</td>\n",
       "      <td>27274.441950</td>\n",
       "    </tr>\n",
       "    <tr>\n",
       "      <th>min</th>\n",
       "      <td>1.000102e+06</td>\n",
       "      <td>7.800000e+04</td>\n",
       "      <td>1.000000</td>\n",
       "      <td>0.500000</td>\n",
       "      <td>370.000000</td>\n",
       "      <td>5.200000e+02</td>\n",
       "      <td>1.000000</td>\n",
       "      <td>370.000000</td>\n",
       "      <td>1900.000000</td>\n",
       "      <td>0.000000</td>\n",
       "      <td>98001.000000</td>\n",
       "      <td>47.155900</td>\n",
       "      <td>-122.519000</td>\n",
       "      <td>399.000000</td>\n",
       "      <td>651.000000</td>\n",
       "    </tr>\n",
       "    <tr>\n",
       "      <th>25%</th>\n",
       "      <td>2.123049e+09</td>\n",
       "      <td>3.220000e+05</td>\n",
       "      <td>3.000000</td>\n",
       "      <td>1.750000</td>\n",
       "      <td>1430.000000</td>\n",
       "      <td>5.040000e+03</td>\n",
       "      <td>1.000000</td>\n",
       "      <td>1190.000000</td>\n",
       "      <td>1951.000000</td>\n",
       "      <td>0.000000</td>\n",
       "      <td>98033.000000</td>\n",
       "      <td>47.471100</td>\n",
       "      <td>-122.328000</td>\n",
       "      <td>1490.000000</td>\n",
       "      <td>5100.000000</td>\n",
       "    </tr>\n",
       "    <tr>\n",
       "      <th>50%</th>\n",
       "      <td>3.904930e+09</td>\n",
       "      <td>4.500000e+05</td>\n",
       "      <td>3.000000</td>\n",
       "      <td>2.250000</td>\n",
       "      <td>1910.000000</td>\n",
       "      <td>7.618000e+03</td>\n",
       "      <td>1.500000</td>\n",
       "      <td>1560.000000</td>\n",
       "      <td>1975.000000</td>\n",
       "      <td>0.000000</td>\n",
       "      <td>98065.000000</td>\n",
       "      <td>47.571800</td>\n",
       "      <td>-122.231000</td>\n",
       "      <td>1840.000000</td>\n",
       "      <td>7620.000000</td>\n",
       "    </tr>\n",
       "    <tr>\n",
       "      <th>75%</th>\n",
       "      <td>7.308900e+09</td>\n",
       "      <td>6.450000e+05</td>\n",
       "      <td>4.000000</td>\n",
       "      <td>2.500000</td>\n",
       "      <td>2550.000000</td>\n",
       "      <td>1.068500e+04</td>\n",
       "      <td>2.000000</td>\n",
       "      <td>2210.000000</td>\n",
       "      <td>1997.000000</td>\n",
       "      <td>0.000000</td>\n",
       "      <td>98118.000000</td>\n",
       "      <td>47.678000</td>\n",
       "      <td>-122.125000</td>\n",
       "      <td>2360.000000</td>\n",
       "      <td>10083.000000</td>\n",
       "    </tr>\n",
       "    <tr>\n",
       "      <th>max</th>\n",
       "      <td>9.900000e+09</td>\n",
       "      <td>7.700000e+06</td>\n",
       "      <td>33.000000</td>\n",
       "      <td>8.000000</td>\n",
       "      <td>13540.000000</td>\n",
       "      <td>1.651359e+06</td>\n",
       "      <td>3.500000</td>\n",
       "      <td>9410.000000</td>\n",
       "      <td>2015.000000</td>\n",
       "      <td>2015.000000</td>\n",
       "      <td>98199.000000</td>\n",
       "      <td>47.777600</td>\n",
       "      <td>-121.315000</td>\n",
       "      <td>6210.000000</td>\n",
       "      <td>871200.000000</td>\n",
       "    </tr>\n",
       "  </tbody>\n",
       "</table>\n",
       "</div>"
      ],
      "text/plain": [
       "                 id         price      bedrooms     bathrooms   sqft_living  \\\n",
       "count  2.159700e+04  2.159700e+04  21597.000000  21597.000000  21597.000000   \n",
       "mean   4.580474e+09  5.402966e+05      3.373200      2.115826   2080.321850   \n",
       "std    2.876736e+09  3.673681e+05      0.926299      0.768984    918.106125   \n",
       "min    1.000102e+06  7.800000e+04      1.000000      0.500000    370.000000   \n",
       "25%    2.123049e+09  3.220000e+05      3.000000      1.750000   1430.000000   \n",
       "50%    3.904930e+09  4.500000e+05      3.000000      2.250000   1910.000000   \n",
       "75%    7.308900e+09  6.450000e+05      4.000000      2.500000   2550.000000   \n",
       "max    9.900000e+09  7.700000e+06     33.000000      8.000000  13540.000000   \n",
       "\n",
       "           sqft_lot        floors    sqft_above      yr_built  yr_renovated  \\\n",
       "count  2.159700e+04  21597.000000  21597.000000  21597.000000  17755.000000   \n",
       "mean   1.509941e+04      1.494096   1788.596842   1970.999676     83.636778   \n",
       "std    4.141264e+04      0.539683    827.759761     29.375234    399.946414   \n",
       "min    5.200000e+02      1.000000    370.000000   1900.000000      0.000000   \n",
       "25%    5.040000e+03      1.000000   1190.000000   1951.000000      0.000000   \n",
       "50%    7.618000e+03      1.500000   1560.000000   1975.000000      0.000000   \n",
       "75%    1.068500e+04      2.000000   2210.000000   1997.000000      0.000000   \n",
       "max    1.651359e+06      3.500000   9410.000000   2015.000000   2015.000000   \n",
       "\n",
       "            zipcode           lat          long  sqft_living15     sqft_lot15  \n",
       "count  21597.000000  21597.000000  21597.000000   21597.000000   21597.000000  \n",
       "mean   98077.951845     47.560093   -122.213982    1986.620318   12758.283512  \n",
       "std       53.513072      0.138552      0.140724     685.230472   27274.441950  \n",
       "min    98001.000000     47.155900   -122.519000     399.000000     651.000000  \n",
       "25%    98033.000000     47.471100   -122.328000    1490.000000    5100.000000  \n",
       "50%    98065.000000     47.571800   -122.231000    1840.000000    7620.000000  \n",
       "75%    98118.000000     47.678000   -122.125000    2360.000000   10083.000000  \n",
       "max    98199.000000     47.777600   -121.315000    6210.000000  871200.000000  "
      ]
     },
     "execution_count": 331,
     "metadata": {},
     "output_type": "execute_result"
    }
   ],
   "source": [
    "df.describe()"
   ]
  },
  {
   "cell_type": "markdown",
   "metadata": {},
   "source": [
    "# Outliers and Formatting"
   ]
  },
  {
   "cell_type": "markdown",
   "metadata": {},
   "source": [
    "When dealing with such large numbers, the decimal places barely have any effect so I have rounded all the prices."
   ]
  },
  {
   "cell_type": "code",
   "execution_count": 332,
   "metadata": {},
   "outputs": [],
   "source": [
    "df['price'] = df['price'].round(0)"
   ]
  },
  {
   "cell_type": "markdown",
   "metadata": {},
   "source": [
    "Clearly, a house does not have 33 bedrooms. 11 bedrooms also seems like an outlier so they will be dropped"
   ]
  },
  {
   "cell_type": "code",
   "execution_count": 333,
   "metadata": {},
   "outputs": [
    {
     "data": {
      "text/plain": [
       "3     9824\n",
       "4     6882\n",
       "2     2760\n",
       "5     1601\n",
       "6      272\n",
       "1      196\n",
       "7       38\n",
       "8       13\n",
       "9        6\n",
       "10       3\n",
       "11       1\n",
       "33       1\n",
       "Name: bedrooms, dtype: int64"
      ]
     },
     "execution_count": 333,
     "metadata": {},
     "output_type": "execute_result"
    }
   ],
   "source": [
    "df['bedrooms'].value_counts()"
   ]
  },
  {
   "cell_type": "code",
   "execution_count": 334,
   "metadata": {},
   "outputs": [],
   "source": [
    "df = df.loc[df['bedrooms']<10]"
   ]
  },
  {
   "cell_type": "markdown",
   "metadata": {},
   "source": [
    "The sqft_basement column has question marks for values. I did consider imputing the question marks with zeros. Ultimately, I dropped these from our dataset, as a question mark does not seem to me like it is a clear indication that there is no basement in the house."
   ]
  },
  {
   "cell_type": "code",
   "execution_count": 335,
   "metadata": {},
   "outputs": [
    {
     "data": {
      "text/plain": [
       "0.0       12826\n",
       "?           454\n",
       "600.0       215\n",
       "500.0       209\n",
       "700.0       208\n",
       "          ...  \n",
       "3480.0        1\n",
       "2730.0        1\n",
       "2720.0        1\n",
       "518.0         1\n",
       "248.0         1\n",
       "Name: sqft_basement, Length: 304, dtype: int64"
      ]
     },
     "execution_count": 335,
     "metadata": {},
     "output_type": "execute_result"
    }
   ],
   "source": [
    "df['sqft_basement'].value_counts()"
   ]
  },
  {
   "cell_type": "code",
   "execution_count": 336,
   "metadata": {},
   "outputs": [],
   "source": [
    "df = df.loc[df['sqft_basement']!= '?']"
   ]
  },
  {
   "cell_type": "markdown",
   "metadata": {},
   "source": [
    "Next I changed the date column to a datetime object and split it into years, months and days sold."
   ]
  },
  {
   "cell_type": "code",
   "execution_count": 337,
   "metadata": {},
   "outputs": [],
   "source": [
    "df['date'] = pd.to_datetime(df['date'])\n",
    "df['year'] = df['date'].dt.year-2014\n",
    "df['month'] = df['date'].dt.month\n",
    "df['day'] = df['date'].dt.day"
   ]
  },
  {
   "cell_type": "markdown",
   "metadata": {},
   "source": [
    "We will be splitting the grade column into two columns, a rating column and a condition column."
   ]
  },
  {
   "cell_type": "code",
   "execution_count": 338,
   "metadata": {},
   "outputs": [],
   "source": [
    "rating = df['grade'].str.split(\" \",expand=True)\n",
    "df['rating'] = rating[0].astype(int)\n",
    "df['condition'] = rating[1]\n",
    "df.loc[df['condition'] == 'Very', 'condition'] = 'Amazing'\n"
   ]
  },
  {
   "cell_type": "markdown",
   "metadata": {},
   "source": [
    "It is fair to assume that the houses that do not have a view are also not on the waterfront, so we will input NO into the waterfront column if the view is NONE."
   ]
  },
  {
   "cell_type": "code",
   "execution_count": 339,
   "metadata": {},
   "outputs": [
    {
     "data": {
      "text/plain": [
       "NO     20734\n",
       "YES      142\n",
       "Name: waterfront, dtype: int64"
      ]
     },
     "execution_count": 339,
     "metadata": {},
     "output_type": "execute_result"
    }
   ],
   "source": [
    "df.loc[df['view'] == 'NONE', 'waterfront'] = 'NO'\n",
    "df['waterfront'].value_counts()"
   ]
  },
  {
   "cell_type": "markdown",
   "metadata": {},
   "source": [
    "If the column yr_renovated is 0, I will replace that value with the year it was built. This was done to maintain as much data as possible and is definitely a fair assumption."
   ]
  },
  {
   "cell_type": "code",
   "execution_count": 340,
   "metadata": {},
   "outputs": [],
   "source": [
    "df.loc[df['yr_renovated'] == 0, 'yr_renovated'] = df['yr_built']\n",
    "df.dropna(subset = ['yr_renovated'],inplace=True)\n",
    "df['yr_renovated'] = df['yr_renovated'].astype(int)\n",
    "\n",
    "df[['yr_renovated','yr_built']] = df[['yr_renovated','yr_built']]-1900"
   ]
  },
  {
   "cell_type": "code",
   "execution_count": 341,
   "metadata": {},
   "outputs": [
    {
     "data": {
      "text/plain": [
       "0"
      ]
     },
     "execution_count": 341,
     "metadata": {},
     "output_type": "execute_result"
    }
   ],
   "source": [
    "df['yr_renovated'].min()"
   ]
  },
  {
   "cell_type": "markdown",
   "metadata": {},
   "source": [
    "Ultimately, these columns will not be helpful in our analysis so we will drop them."
   ]
  },
  {
   "cell_type": "code",
   "execution_count": 342,
   "metadata": {},
   "outputs": [],
   "source": [
    "df.drop(['date','day','grade','id','long','lat','year'],axis=1,inplace=True)\n"
   ]
  },
  {
   "cell_type": "markdown",
   "metadata": {},
   "source": [
    "Multiple columns are not the proper datatype for our analysis. Bathrooms and floors should both be integers and all of the columns containing square feet should be changed to floats."
   ]
  },
  {
   "cell_type": "code",
   "execution_count": 343,
   "metadata": {},
   "outputs": [
    {
     "name": "stdout",
     "output_type": "stream",
     "text": [
      "<class 'pandas.core.frame.DataFrame'>\n",
      "Int64Index: 17384 entries, 0 to 21596\n",
      "Data columns (total 18 columns):\n",
      " #   Column         Non-Null Count  Dtype  \n",
      "---  ------         --------------  -----  \n",
      " 0   price          17384 non-null  float64\n",
      " 1   bedrooms       17384 non-null  int64  \n",
      " 2   bathrooms      17384 non-null  float64\n",
      " 3   sqft_living    17384 non-null  int64  \n",
      " 4   sqft_lot       17384 non-null  int64  \n",
      " 5   floors         17384 non-null  float64\n",
      " 6   waterfront     17171 non-null  object \n",
      " 7   view           17335 non-null  object \n",
      " 8   condition      17384 non-null  object \n",
      " 9   sqft_above     17384 non-null  int64  \n",
      " 10  sqft_basement  17384 non-null  object \n",
      " 11  yr_built       17384 non-null  int64  \n",
      " 12  yr_renovated   17384 non-null  int64  \n",
      " 13  zipcode        17384 non-null  int64  \n",
      " 14  sqft_living15  17384 non-null  int64  \n",
      " 15  sqft_lot15     17384 non-null  int64  \n",
      " 16  month          17384 non-null  int64  \n",
      " 17  rating         17384 non-null  int64  \n",
      "dtypes: float64(3), int64(11), object(4)\n",
      "memory usage: 2.5+ MB\n"
     ]
    }
   ],
   "source": [
    "df.info()"
   ]
  },
  {
   "cell_type": "code",
   "execution_count": 344,
   "metadata": {},
   "outputs": [],
   "source": [
    "df[['bathrooms','floors']]= df[['bathrooms','floors']].astype(int)\n",
    "df[['sqft_living','sqft_lot','sqft_above','sqft_basement','sqft_living15',\n",
    "           'sqft_lot15']] = df[['sqft_living','sqft_lot','sqft_above','sqft_basement',\n",
    "                        'sqft_living15','sqft_lot15']].astype(float)\n"
   ]
  },
  {
   "cell_type": "markdown",
   "metadata": {},
   "source": [
    "# House Price Distribution\n"
   ]
  },
  {
   "cell_type": "markdown",
   "metadata": {},
   "source": [
    "The first thing that I wanted to do was take out the extreme outliers from the housing price distribution. As housing prices are often skewed because of expensive mansions, I dropped all the outliers that seemed unreasonable to consider for this family."
   ]
  },
  {
   "cell_type": "code",
   "execution_count": 345,
   "metadata": {},
   "outputs": [
    {
     "data": {
      "text/plain": [
       "246      2400000.0\n",
       "4264     2400000.0\n",
       "6189     2400000.0\n",
       "1943     2400000.0\n",
       "14499    2400000.0\n",
       "           ...    \n",
       "1313     5300000.0\n",
       "1446     5350000.0\n",
       "9245     6890000.0\n",
       "3910     7060000.0\n",
       "7245     7700000.0\n",
       "Name: price, Length: 100, dtype: float64"
      ]
     },
     "execution_count": 345,
     "metadata": {},
     "output_type": "execute_result"
    }
   ],
   "source": [
    "df['price'].sort_values(ascending=True).tail(100)"
   ]
  },
  {
   "cell_type": "code",
   "execution_count": 346,
   "metadata": {},
   "outputs": [
    {
     "data": {
      "image/png": "[encoded data removed]",
      "text/plain": [
       "<Figure size 576x576 with 1 Axes>"
      ]
     },
     "metadata": {},
     "output_type": "display_data"
    }
   ],
   "source": [
    "fig,ax = plt.subplots(figsize=(8,8))\n",
    "ax = sns.boxplot(y = df['price']).set(ylabel='Price', title = 'House Price Distribution With Massive Outliers')\n",
    "plt.ticklabel_format(style='plain', axis='y')\n",
    "plt.show;"
   ]
  },
  {
   "cell_type": "markdown",
   "metadata": {},
   "source": [
    "There are plenty of outliers on the more expensive end, which almost makes this graph unreadable. I am going to remove all houses that are above 2 million dollars for my analysis. When those houses are excluded, our box plot looks much more reasonable."
   ]
  },
  {
   "cell_type": "code",
   "execution_count": 347,
   "metadata": {},
   "outputs": [
    {
     "data": {
      "image/png": "[encoded data removed]",
      "text/plain": [
       "<Figure size 576x576 with 1 Axes>"
      ]
     },
     "metadata": {},
     "output_type": "display_data"
    }
   ],
   "source": [
    "df = df.loc[df['price']<2000000]\n",
    "fig,ax = plt.subplots(figsize = (8,8))\n",
    "sns.boxplot(y = df['price']).set(ylabel='Price in millions', title = 'House Price Distribution')\n",
    "plt.ticklabel_format(style='plain', axis='y')\n",
    "plt.show;"
   ]
  },
  {
   "cell_type": "markdown",
   "metadata": {},
   "source": [
    "Since the family wants to avoid the city life and find a house in the suburbs, I excluded all zip codes in Seattle from my analysis."
   ]
  },
  {
   "cell_type": "code",
   "execution_count": 348,
   "metadata": {},
   "outputs": [],
   "source": [
    "seattle = [98101,98102,98103, 98104,98105,98106, 98107, 98108, 98109, 98112, 98115, 98116, \n",
    "98117, 98118, 98119, 98121, 98122, 98125,98126,98133,98134,98136,98144,98154,98164,98174,98195,98199]\n",
    "df = df.loc[-df['zipcode'].isin(seattle)]\n"
   ]
  },
  {
   "cell_type": "markdown",
   "metadata": {},
   "source": [
    "Now that the data has been prepped, we can check one last time for any null values. I decided to drop the rows in waterfront and view that were still considered null."
   ]
  },
  {
   "cell_type": "code",
   "execution_count": 349,
   "metadata": {},
   "outputs": [
    {
     "data": {
      "text/plain": [
       "price              0\n",
       "bedrooms           0\n",
       "bathrooms          0\n",
       "sqft_living        0\n",
       "sqft_lot           0\n",
       "floors             0\n",
       "waterfront       126\n",
       "view              31\n",
       "condition          0\n",
       "sqft_above         0\n",
       "sqft_basement      0\n",
       "yr_built           0\n",
       "yr_renovated       0\n",
       "zipcode            0\n",
       "sqft_living15      0\n",
       "sqft_lot15         0\n",
       "month              0\n",
       "rating             0\n",
       "dtype: int64"
      ]
     },
     "execution_count": 349,
     "metadata": {},
     "output_type": "execute_result"
    }
   ],
   "source": [
    "df.isna().sum()"
   ]
  },
  {
   "cell_type": "code",
   "execution_count": 350,
   "metadata": {},
   "outputs": [],
   "source": [
    "df.dropna(inplace=True)"
   ]
  },
  {
   "cell_type": "markdown",
   "metadata": {},
   "source": [
    "# Inital Correlation and Heatmaps"
   ]
  },
  {
   "cell_type": "markdown",
   "metadata": {},
   "source": [
    "The first correlation table and heatmap were used to figure out what variables are strongly correlated with price. For the correlation table I wanted to see any variables that had a correlation coefficient larger than 0.7"
   ]
  },
  {
   "cell_type": "code",
   "execution_count": 351,
   "metadata": {},
   "outputs": [
    {
     "data": {
      "text/html": [
       "<div>\n",
       "<style scoped>\n",
       "    .dataframe tbody tr th:only-of-type {\n",
       "        vertical-align: middle;\n",
       "    }\n",
       "\n",
       "    .dataframe tbody tr th {\n",
       "        vertical-align: top;\n",
       "    }\n",
       "\n",
       "    .dataframe thead th {\n",
       "        text-align: right;\n",
       "    }\n",
       "</style>\n",
       "<table border=\"1\" class=\"dataframe\">\n",
       "  <thead>\n",
       "    <tr style=\"text-align: right;\">\n",
       "      <th></th>\n",
       "      <th>price</th>\n",
       "      <th>bedrooms</th>\n",
       "      <th>bathrooms</th>\n",
       "      <th>sqft_living</th>\n",
       "      <th>sqft_lot</th>\n",
       "      <th>floors</th>\n",
       "      <th>sqft_above</th>\n",
       "      <th>sqft_basement</th>\n",
       "      <th>yr_built</th>\n",
       "      <th>yr_renovated</th>\n",
       "      <th>zipcode</th>\n",
       "      <th>sqft_living15</th>\n",
       "      <th>sqft_lot15</th>\n",
       "      <th>month</th>\n",
       "      <th>rating</th>\n",
       "    </tr>\n",
       "  </thead>\n",
       "  <tbody>\n",
       "    <tr>\n",
       "      <th>price</th>\n",
       "      <td>True</td>\n",
       "      <td>False</td>\n",
       "      <td>False</td>\n",
       "      <td>True</td>\n",
       "      <td>False</td>\n",
       "      <td>False</td>\n",
       "      <td>False</td>\n",
       "      <td>False</td>\n",
       "      <td>False</td>\n",
       "      <td>False</td>\n",
       "      <td>False</td>\n",
       "      <td>False</td>\n",
       "      <td>False</td>\n",
       "      <td>False</td>\n",
       "      <td>True</td>\n",
       "    </tr>\n",
       "    <tr>\n",
       "      <th>bedrooms</th>\n",
       "      <td>False</td>\n",
       "      <td>True</td>\n",
       "      <td>False</td>\n",
       "      <td>False</td>\n",
       "      <td>False</td>\n",
       "      <td>False</td>\n",
       "      <td>False</td>\n",
       "      <td>False</td>\n",
       "      <td>False</td>\n",
       "      <td>False</td>\n",
       "      <td>False</td>\n",
       "      <td>False</td>\n",
       "      <td>False</td>\n",
       "      <td>False</td>\n",
       "      <td>False</td>\n",
       "    </tr>\n",
       "    <tr>\n",
       "      <th>bathrooms</th>\n",
       "      <td>False</td>\n",
       "      <td>False</td>\n",
       "      <td>True</td>\n",
       "      <td>True</td>\n",
       "      <td>False</td>\n",
       "      <td>False</td>\n",
       "      <td>False</td>\n",
       "      <td>False</td>\n",
       "      <td>False</td>\n",
       "      <td>False</td>\n",
       "      <td>False</td>\n",
       "      <td>False</td>\n",
       "      <td>False</td>\n",
       "      <td>False</td>\n",
       "      <td>False</td>\n",
       "    </tr>\n",
       "    <tr>\n",
       "      <th>sqft_living</th>\n",
       "      <td>True</td>\n",
       "      <td>False</td>\n",
       "      <td>True</td>\n",
       "      <td>True</td>\n",
       "      <td>False</td>\n",
       "      <td>False</td>\n",
       "      <td>True</td>\n",
       "      <td>False</td>\n",
       "      <td>False</td>\n",
       "      <td>False</td>\n",
       "      <td>False</td>\n",
       "      <td>True</td>\n",
       "      <td>False</td>\n",
       "      <td>False</td>\n",
       "      <td>True</td>\n",
       "    </tr>\n",
       "    <tr>\n",
       "      <th>sqft_lot</th>\n",
       "      <td>False</td>\n",
       "      <td>False</td>\n",
       "      <td>False</td>\n",
       "      <td>False</td>\n",
       "      <td>True</td>\n",
       "      <td>False</td>\n",
       "      <td>False</td>\n",
       "      <td>False</td>\n",
       "      <td>False</td>\n",
       "      <td>False</td>\n",
       "      <td>False</td>\n",
       "      <td>False</td>\n",
       "      <td>False</td>\n",
       "      <td>False</td>\n",
       "      <td>False</td>\n",
       "    </tr>\n",
       "    <tr>\n",
       "      <th>floors</th>\n",
       "      <td>False</td>\n",
       "      <td>False</td>\n",
       "      <td>False</td>\n",
       "      <td>False</td>\n",
       "      <td>False</td>\n",
       "      <td>True</td>\n",
       "      <td>False</td>\n",
       "      <td>False</td>\n",
       "      <td>False</td>\n",
       "      <td>False</td>\n",
       "      <td>False</td>\n",
       "      <td>False</td>\n",
       "      <td>False</td>\n",
       "      <td>False</td>\n",
       "      <td>False</td>\n",
       "    </tr>\n",
       "    <tr>\n",
       "      <th>sqft_above</th>\n",
       "      <td>False</td>\n",
       "      <td>False</td>\n",
       "      <td>False</td>\n",
       "      <td>True</td>\n",
       "      <td>False</td>\n",
       "      <td>False</td>\n",
       "      <td>True</td>\n",
       "      <td>False</td>\n",
       "      <td>False</td>\n",
       "      <td>False</td>\n",
       "      <td>False</td>\n",
       "      <td>True</td>\n",
       "      <td>False</td>\n",
       "      <td>False</td>\n",
       "      <td>True</td>\n",
       "    </tr>\n",
       "    <tr>\n",
       "      <th>sqft_basement</th>\n",
       "      <td>False</td>\n",
       "      <td>False</td>\n",
       "      <td>False</td>\n",
       "      <td>False</td>\n",
       "      <td>False</td>\n",
       "      <td>False</td>\n",
       "      <td>False</td>\n",
       "      <td>True</td>\n",
       "      <td>False</td>\n",
       "      <td>False</td>\n",
       "      <td>False</td>\n",
       "      <td>False</td>\n",
       "      <td>False</td>\n",
       "      <td>False</td>\n",
       "      <td>False</td>\n",
       "    </tr>\n",
       "    <tr>\n",
       "      <th>yr_built</th>\n",
       "      <td>False</td>\n",
       "      <td>False</td>\n",
       "      <td>False</td>\n",
       "      <td>False</td>\n",
       "      <td>False</td>\n",
       "      <td>False</td>\n",
       "      <td>False</td>\n",
       "      <td>False</td>\n",
       "      <td>True</td>\n",
       "      <td>True</td>\n",
       "      <td>False</td>\n",
       "      <td>False</td>\n",
       "      <td>False</td>\n",
       "      <td>False</td>\n",
       "      <td>False</td>\n",
       "    </tr>\n",
       "    <tr>\n",
       "      <th>yr_renovated</th>\n",
       "      <td>False</td>\n",
       "      <td>False</td>\n",
       "      <td>False</td>\n",
       "      <td>False</td>\n",
       "      <td>False</td>\n",
       "      <td>False</td>\n",
       "      <td>False</td>\n",
       "      <td>False</td>\n",
       "      <td>True</td>\n",
       "      <td>True</td>\n",
       "      <td>False</td>\n",
       "      <td>False</td>\n",
       "      <td>False</td>\n",
       "      <td>False</td>\n",
       "      <td>False</td>\n",
       "    </tr>\n",
       "    <tr>\n",
       "      <th>zipcode</th>\n",
       "      <td>False</td>\n",
       "      <td>False</td>\n",
       "      <td>False</td>\n",
       "      <td>False</td>\n",
       "      <td>False</td>\n",
       "      <td>False</td>\n",
       "      <td>False</td>\n",
       "      <td>False</td>\n",
       "      <td>False</td>\n",
       "      <td>False</td>\n",
       "      <td>True</td>\n",
       "      <td>False</td>\n",
       "      <td>False</td>\n",
       "      <td>False</td>\n",
       "      <td>False</td>\n",
       "    </tr>\n",
       "    <tr>\n",
       "      <th>sqft_living15</th>\n",
       "      <td>False</td>\n",
       "      <td>False</td>\n",
       "      <td>False</td>\n",
       "      <td>True</td>\n",
       "      <td>False</td>\n",
       "      <td>False</td>\n",
       "      <td>True</td>\n",
       "      <td>False</td>\n",
       "      <td>False</td>\n",
       "      <td>False</td>\n",
       "      <td>False</td>\n",
       "      <td>True</td>\n",
       "      <td>False</td>\n",
       "      <td>False</td>\n",
       "      <td>True</td>\n",
       "    </tr>\n",
       "    <tr>\n",
       "      <th>sqft_lot15</th>\n",
       "      <td>False</td>\n",
       "      <td>False</td>\n",
       "      <td>False</td>\n",
       "      <td>False</td>\n",
       "      <td>False</td>\n",
       "      <td>False</td>\n",
       "      <td>False</td>\n",
       "      <td>False</td>\n",
       "      <td>False</td>\n",
       "      <td>False</td>\n",
       "      <td>False</td>\n",
       "      <td>False</td>\n",
       "      <td>True</td>\n",
       "      <td>False</td>\n",
       "      <td>False</td>\n",
       "    </tr>\n",
       "    <tr>\n",
       "      <th>month</th>\n",
       "      <td>False</td>\n",
       "      <td>False</td>\n",
       "      <td>False</td>\n",
       "      <td>False</td>\n",
       "      <td>False</td>\n",
       "      <td>False</td>\n",
       "      <td>False</td>\n",
       "      <td>False</td>\n",
       "      <td>False</td>\n",
       "      <td>False</td>\n",
       "      <td>False</td>\n",
       "      <td>False</td>\n",
       "      <td>False</td>\n",
       "      <td>True</td>\n",
       "      <td>False</td>\n",
       "    </tr>\n",
       "    <tr>\n",
       "      <th>rating</th>\n",
       "      <td>True</td>\n",
       "      <td>False</td>\n",
       "      <td>False</td>\n",
       "      <td>True</td>\n",
       "      <td>False</td>\n",
       "      <td>False</td>\n",
       "      <td>True</td>\n",
       "      <td>False</td>\n",
       "      <td>False</td>\n",
       "      <td>False</td>\n",
       "      <td>False</td>\n",
       "      <td>True</td>\n",
       "      <td>False</td>\n",
       "      <td>False</td>\n",
       "      <td>True</td>\n",
       "    </tr>\n",
       "  </tbody>\n",
       "</table>\n",
       "</div>"
      ],
      "text/plain": [
       "               price  bedrooms  bathrooms  sqft_living  sqft_lot  floors  \\\n",
       "price           True     False      False         True     False   False   \n",
       "bedrooms       False      True      False        False     False   False   \n",
       "bathrooms      False     False       True         True     False   False   \n",
       "sqft_living     True     False       True         True     False   False   \n",
       "sqft_lot       False     False      False        False      True   False   \n",
       "floors         False     False      False        False     False    True   \n",
       "sqft_above     False     False      False         True     False   False   \n",
       "sqft_basement  False     False      False        False     False   False   \n",
       "yr_built       False     False      False        False     False   False   \n",
       "yr_renovated   False     False      False        False     False   False   \n",
       "zipcode        False     False      False        False     False   False   \n",
       "sqft_living15  False     False      False         True     False   False   \n",
       "sqft_lot15     False     False      False        False     False   False   \n",
       "month          False     False      False        False     False   False   \n",
       "rating          True     False      False         True     False   False   \n",
       "\n",
       "               sqft_above  sqft_basement  yr_built  yr_renovated  zipcode  \\\n",
       "price               False          False     False         False    False   \n",
       "bedrooms            False          False     False         False    False   \n",
       "bathrooms           False          False     False         False    False   \n",
       "sqft_living          True          False     False         False    False   \n",
       "sqft_lot            False          False     False         False    False   \n",
       "floors              False          False     False         False    False   \n",
       "sqft_above           True          False     False         False    False   \n",
       "sqft_basement       False           True     False         False    False   \n",
       "yr_built            False          False      True          True    False   \n",
       "yr_renovated        False          False      True          True    False   \n",
       "zipcode             False          False     False         False     True   \n",
       "sqft_living15        True          False     False         False    False   \n",
       "sqft_lot15          False          False     False         False    False   \n",
       "month               False          False     False         False    False   \n",
       "rating               True          False     False         False    False   \n",
       "\n",
       "               sqft_living15  sqft_lot15  month  rating  \n",
       "price                  False       False  False    True  \n",
       "bedrooms               False       False  False   False  \n",
       "bathrooms              False       False  False   False  \n",
       "sqft_living             True       False  False    True  \n",
       "sqft_lot               False       False  False   False  \n",
       "floors                 False       False  False   False  \n",
       "sqft_above              True       False  False    True  \n",
       "sqft_basement          False       False  False   False  \n",
       "yr_built               False       False  False   False  \n",
       "yr_renovated           False       False  False   False  \n",
       "zipcode                False       False  False   False  \n",
       "sqft_living15           True       False  False    True  \n",
       "sqft_lot15             False        True  False   False  \n",
       "month                  False       False   True   False  \n",
       "rating                  True       False  False    True  "
      ]
     },
     "execution_count": 351,
     "metadata": {},
     "output_type": "execute_result"
    }
   ],
   "source": [
    "df.corr().abs() > .7"
   ]
  },
  {
   "cell_type": "code",
   "execution_count": 352,
   "metadata": {},
   "outputs": [
    {
     "data": {
      "text/plain": [
       "''"
      ]
     },
     "execution_count": 352,
     "metadata": {},
     "output_type": "execute_result"
    },
    {
     "data": {
      "image/png": "[encoded data removed]",
      "text/plain": [
       "<Figure size 1080x1080 with 2 Axes>"
      ]
     },
     "metadata": {},
     "output_type": "display_data"
    }
   ],
   "source": [
    "fig,ax=plt.subplots(figsize=(15,15))\n",
    "sns.heatmap(df.corr().abs(),annot=True,cmap=\"viridis\").set(title='Heatmap')\n",
    "\n",
    ";"
   ]
  },
  {
   "cell_type": "markdown",
   "metadata": {},
   "source": [
    "While there are multiple columns that have strong correlation with price, sqft_living is definitely the most influential. Other variables like sqft_above, sqft_living15 and rating are all highly correlated as well, but it does make sense that sqft_living is the most important."
   ]
  },
  {
   "cell_type": "markdown",
   "metadata": {},
   "source": [
    "# Model 1"
   ]
  },
  {
   "cell_type": "markdown",
   "metadata": {},
   "source": [
    "Since the column, sqft_living, has the highest correlation with sales price, I wanted to create my first model just taking this variable into account.\n"
   ]
  },
  {
   "cell_type": "code",
   "execution_count": 353,
   "metadata": {},
   "outputs": [
    {
     "data": {
      "text/html": [
       "<table class=\"simpletable\">\n",
       "<caption>OLS Regression Results</caption>\n",
       "<tr>\n",
       "  <th>Dep. Variable:</th>          <td>price</td>      <th>  R-squared:         </th>  <td>   0.535</td>  \n",
       "</tr>\n",
       "<tr>\n",
       "  <th>Model:</th>                   <td>OLS</td>       <th>  Adj. R-squared:    </th>  <td>   0.535</td>  \n",
       "</tr>\n",
       "<tr>\n",
       "  <th>Method:</th>             <td>Least Squares</td>  <th>  F-statistic:       </th>  <td>1.350e+04</td> \n",
       "</tr>\n",
       "<tr>\n",
       "  <th>Date:</th>             <td>Fri, 28 Oct 2022</td> <th>  Prob (F-statistic):</th>   <td>  0.00</td>   \n",
       "</tr>\n",
       "<tr>\n",
       "  <th>Time:</th>                 <td>01:30:42</td>     <th>  Log-Likelihood:    </th> <td>-1.5986e+05</td>\n",
       "</tr>\n",
       "<tr>\n",
       "  <th>No. Observations:</th>      <td> 11751</td>      <th>  AIC:               </th>  <td>3.197e+05</td> \n",
       "</tr>\n",
       "<tr>\n",
       "  <th>Df Residuals:</th>          <td> 11749</td>      <th>  BIC:               </th>  <td>3.197e+05</td> \n",
       "</tr>\n",
       "<tr>\n",
       "  <th>Df Model:</th>              <td>     1</td>      <th>                     </th>      <td> </td>     \n",
       "</tr>\n",
       "<tr>\n",
       "  <th>Covariance Type:</th>      <td>nonrobust</td>    <th>                     </th>      <td> </td>     \n",
       "</tr>\n",
       "</table>\n",
       "<table class=\"simpletable\">\n",
       "<tr>\n",
       "       <td></td>          <th>coef</th>     <th>std err</th>      <th>t</th>      <th>P>|t|</th>  <th>[0.025</th>    <th>0.975]</th>  \n",
       "</tr>\n",
       "<tr>\n",
       "  <th>const</th>       <td>-2.438e+04</td> <td> 4831.799</td> <td>   -5.045</td> <td> 0.000</td> <td>-3.38e+04</td> <td>-1.49e+04</td>\n",
       "</tr>\n",
       "<tr>\n",
       "  <th>sqft_living</th> <td>  239.0693</td> <td>    2.057</td> <td>  116.208</td> <td> 0.000</td> <td>  235.037</td> <td>  243.102</td>\n",
       "</tr>\n",
       "</table>\n",
       "<table class=\"simpletable\">\n",
       "<tr>\n",
       "  <th>Omnibus:</th>       <td>3610.012</td> <th>  Durbin-Watson:     </th> <td>   1.977</td> \n",
       "</tr>\n",
       "<tr>\n",
       "  <th>Prob(Omnibus):</th>  <td> 0.000</td>  <th>  Jarque-Bera (JB):  </th> <td>16522.639</td>\n",
       "</tr>\n",
       "<tr>\n",
       "  <th>Skew:</th>           <td> 1.432</td>  <th>  Prob(JB):          </th> <td>    0.00</td> \n",
       "</tr>\n",
       "<tr>\n",
       "  <th>Kurtosis:</th>       <td> 8.055</td>  <th>  Cond. No.          </th> <td>6.28e+03</td> \n",
       "</tr>\n",
       "</table><br/><br/>Notes:<br/>[1] Standard Errors assume that the covariance matrix of the errors is correctly specified.<br/>[2] The condition number is large, 6.28e+03. This might indicate that there are<br/>strong multicollinearity or other numerical problems."
      ],
      "text/plain": [
       "<class 'statsmodels.iolib.summary.Summary'>\n",
       "\"\"\"\n",
       "                            OLS Regression Results                            \n",
       "==============================================================================\n",
       "Dep. Variable:                  price   R-squared:                       0.535\n",
       "Model:                            OLS   Adj. R-squared:                  0.535\n",
       "Method:                 Least Squares   F-statistic:                 1.350e+04\n",
       "Date:                Fri, 28 Oct 2022   Prob (F-statistic):               0.00\n",
       "Time:                        01:30:42   Log-Likelihood:            -1.5986e+05\n",
       "No. Observations:               11751   AIC:                         3.197e+05\n",
       "Df Residuals:                   11749   BIC:                         3.197e+05\n",
       "Df Model:                           1                                         \n",
       "Covariance Type:            nonrobust                                         \n",
       "===============================================================================\n",
       "                  coef    std err          t      P>|t|      [0.025      0.975]\n",
       "-------------------------------------------------------------------------------\n",
       "const       -2.438e+04   4831.799     -5.045      0.000   -3.38e+04   -1.49e+04\n",
       "sqft_living   239.0693      2.057    116.208      0.000     235.037     243.102\n",
       "==============================================================================\n",
       "Omnibus:                     3610.012   Durbin-Watson:                   1.977\n",
       "Prob(Omnibus):                  0.000   Jarque-Bera (JB):            16522.639\n",
       "Skew:                           1.432   Prob(JB):                         0.00\n",
       "Kurtosis:                       8.055   Cond. No.                     6.28e+03\n",
       "==============================================================================\n",
       "\n",
       "Notes:\n",
       "[1] Standard Errors assume that the covariance matrix of the errors is correctly specified.\n",
       "[2] The condition number is large, 6.28e+03. This might indicate that there are\n",
       "strong multicollinearity or other numerical problems.\n",
       "\"\"\""
      ]
     },
     "execution_count": 353,
     "metadata": {},
     "output_type": "execute_result"
    }
   ],
   "source": [
    "X = df[['sqft_living']]\n",
    "y = df['price']\n",
    "\n",
    "lr = LinearRegression()\n",
    "\n",
    "model = sm.OLS(endog=y, exog=sm.add_constant(X)).fit()\n",
    "model.summary()"
   ]
  },
  {
   "cell_type": "code",
   "execution_count": 354,
   "metadata": {},
   "outputs": [
    {
     "name": "stdout",
     "output_type": "stream",
     "text": [
      "The correlation coefficient for this base model was 0.5347542299398474\n"
     ]
    }
   ],
   "source": [
    "lr.fit(X,y)\n",
    "print(f\"The correlation coefficient for this base model was {lr.score(X,y)}\")"
   ]
  },
  {
   "cell_type": "markdown",
   "metadata": {},
   "source": [
    "With such a low correlation coefficient and large condition number, it is clear that this model is not a good predictor of housing prices."
   ]
  },
  {
   "cell_type": "markdown",
   "metadata": {},
   "source": [
    "# MODEL 2"
   ]
  },
  {
   "cell_type": "markdown",
   "metadata": {},
   "source": [
    "In my second model, I wanted to include every variable and see how that would affect the prediction, including the categorical variables. I split the variables between numerical, nominal and ordinal, and then ultimately joined them all together for analysis."
   ]
  },
  {
   "cell_type": "code",
   "execution_count": 355,
   "metadata": {},
   "outputs": [],
   "source": [
    "cond_list = ['Poor','Fair','Low','Average','Good','Better','Amazing','Excellent','Luxury', 'Mansion']\n",
    "view_list = ['NONE','FAIR','AVERAGE','GOOD','EXCELLENT']"
   ]
  },
  {
   "cell_type": "code",
   "execution_count": 356,
   "metadata": {
    "scrolled": true
   },
   "outputs": [],
   "source": [
    "ohe = OneHotEncoder(drop='first',sparse = False)\n",
    "ss = StandardScaler()\n",
    "o_enc = OrdinalEncoder(categories = [cond_list, view_list])\n",
    "lr = LinearRegression()\n",
    "\n",
    "#Define X and y variables\n",
    "X = df.drop(['price'],axis=1)\n",
    "y = df['price']\n",
    "\n",
    "#Train, test, split, here\n",
    "X_train, X_test, y_train, y_test = train_test_split(X, y, test_size=0.33, random_state=42)\n",
    "\n",
    "#NUMERICAL\n",
    "Xtrain_numerical = X_train.drop(['waterfront','view','condition'], axis=1)\n",
    "Xtest_numerical = X_test.drop(['waterfront','view','condition'], axis=1)\n",
    "\n",
    "\n",
    "Xtrain_numerical_scaled = pd.DataFrame(ss.fit_transform(Xtrain_numerical),\n",
    "                              columns=Xtrain_numerical.columns,\n",
    "                              index=Xtrain_numerical.index)\n",
    "Xtest_numerical_scaled = pd.DataFrame(ss.transform(Xtest_numerical),columns=Xtest_numerical.columns,\n",
    "                              index=Xtest_numerical.index)\n",
    "#NOMINAL\n",
    "Xtrain_nom = pd.DataFrame(X_train['waterfront'])\n",
    "Xtest_nom = pd.DataFrame(X_test['waterfront'])\n",
    "\n",
    "Xtrain_nom = pd.DataFrame(ohe.fit_transform(Xtrain_nom),columns=Xtrain_nom.columns,index=Xtrain_nom.index)\n",
    "Xtest_nom = pd.DataFrame(ohe.transform(Xtest_nom),columns=Xtest_nom.columns,index=Xtest_nom.index)\n",
    "\n",
    "#ORDINAL\n",
    "ord_cat = ['condition', 'view']\n",
    "Xtrain_ord = X_train[ord_cat]\n",
    "Xtest_ord = X_test[ord_cat]\n",
    "\n",
    "Xtrain_ord= pd.DataFrame(o_enc.fit_transform(Xtrain_ord),columns=Xtrain_ord.columns,index=Xtrain_ord.index)\n",
    "Xtest_ord = pd.DataFrame(o_enc.transform(Xtest_ord),columns=Xtest_ord.columns,index=Xtest_ord.index)\n",
    "\n",
    "#concat\n",
    "Xtrain_processed = pd.concat([Xtrain_nom,Xtrain_numerical,Xtrain_ord], axis=1)\n",
    "Xtest_processed = pd.concat([Xtest_nom,Xtest_numerical,Xtest_ord], axis=1)\n"
   ]
  },
  {
   "cell_type": "code",
   "execution_count": 357,
   "metadata": {},
   "outputs": [
    {
     "data": {
      "text/html": [
       "<table class=\"simpletable\">\n",
       "<caption>OLS Regression Results</caption>\n",
       "<tr>\n",
       "  <th>Dep. Variable:</th>          <td>price</td>      <th>  R-squared:         </th>  <td>   0.663</td>  \n",
       "</tr>\n",
       "<tr>\n",
       "  <th>Model:</th>                   <td>OLS</td>       <th>  Adj. R-squared:    </th>  <td>   0.662</td>  \n",
       "</tr>\n",
       "<tr>\n",
       "  <th>Method:</th>             <td>Least Squares</td>  <th>  F-statistic:       </th>  <td>   964.6</td>  \n",
       "</tr>\n",
       "<tr>\n",
       "  <th>Date:</th>             <td>Fri, 28 Oct 2022</td> <th>  Prob (F-statistic):</th>   <td>  0.00</td>   \n",
       "</tr>\n",
       "<tr>\n",
       "  <th>Time:</th>                 <td>01:30:42</td>     <th>  Log-Likelihood:    </th> <td>-1.0586e+05</td>\n",
       "</tr>\n",
       "<tr>\n",
       "  <th>No. Observations:</th>      <td>  7873</td>      <th>  AIC:               </th>  <td>2.118e+05</td> \n",
       "</tr>\n",
       "<tr>\n",
       "  <th>Df Residuals:</th>          <td>  7856</td>      <th>  BIC:               </th>  <td>2.119e+05</td> \n",
       "</tr>\n",
       "<tr>\n",
       "  <th>Df Model:</th>              <td>    16</td>      <th>                     </th>      <td> </td>     \n",
       "</tr>\n",
       "<tr>\n",
       "  <th>Covariance Type:</th>      <td>nonrobust</td>    <th>                     </th>      <td> </td>     \n",
       "</tr>\n",
       "</table>\n",
       "<table class=\"simpletable\">\n",
       "<tr>\n",
       "        <td></td>           <th>coef</th>     <th>std err</th>      <th>t</th>      <th>P>|t|</th>  <th>[0.025</th>    <th>0.975]</th>  \n",
       "</tr>\n",
       "<tr>\n",
       "  <th>const</th>         <td> 5.324e+07</td> <td> 3.77e+06</td> <td>   14.111</td> <td> 0.000</td> <td> 4.58e+07</td> <td> 6.06e+07</td>\n",
       "</tr>\n",
       "<tr>\n",
       "  <th>waterfront</th>    <td> 2.752e+05</td> <td> 2.64e+04</td> <td>   10.428</td> <td> 0.000</td> <td> 2.23e+05</td> <td> 3.27e+05</td>\n",
       "</tr>\n",
       "<tr>\n",
       "  <th>bedrooms</th>      <td>-1.671e+04</td> <td> 2905.060</td> <td>   -5.752</td> <td> 0.000</td> <td>-2.24e+04</td> <td> -1.1e+04</td>\n",
       "</tr>\n",
       "<tr>\n",
       "  <th>bathrooms</th>     <td> 3.261e+04</td> <td> 4351.691</td> <td>    7.494</td> <td> 0.000</td> <td> 2.41e+04</td> <td> 4.11e+04</td>\n",
       "</tr>\n",
       "<tr>\n",
       "  <th>sqft_living</th>   <td>   69.7713</td> <td>    3.239</td> <td>   21.539</td> <td> 0.000</td> <td>   63.421</td> <td>   76.121</td>\n",
       "</tr>\n",
       "<tr>\n",
       "  <th>sqft_lot</th>      <td>    0.1068</td> <td>    0.065</td> <td>    1.652</td> <td> 0.099</td> <td>   -0.020</td> <td>    0.233</td>\n",
       "</tr>\n",
       "<tr>\n",
       "  <th>floors</th>        <td>-2.566e+04</td> <td> 6019.572</td> <td>   -4.262</td> <td> 0.000</td> <td>-3.75e+04</td> <td>-1.39e+04</td>\n",
       "</tr>\n",
       "<tr>\n",
       "  <th>sqft_above</th>    <td>   48.7017</td> <td>    3.141</td> <td>   15.506</td> <td> 0.000</td> <td>   42.545</td> <td>   54.859</td>\n",
       "</tr>\n",
       "<tr>\n",
       "  <th>sqft_basement</th> <td>   21.1141</td> <td>    3.607</td> <td>    5.854</td> <td> 0.000</td> <td>   14.044</td> <td>   28.185</td>\n",
       "</tr>\n",
       "<tr>\n",
       "  <th>yr_built</th>      <td>-3214.4116</td> <td>  248.122</td> <td>  -12.955</td> <td> 0.000</td> <td>-3700.797</td> <td>-2728.026</td>\n",
       "</tr>\n",
       "<tr>\n",
       "  <th>yr_renovated</th>  <td>  711.6603</td> <td>  253.677</td> <td>    2.805</td> <td> 0.005</td> <td>  214.386</td> <td> 1208.935</td>\n",
       "</tr>\n",
       "<tr>\n",
       "  <th>zipcode</th>       <td> -542.9841</td> <td>   38.462</td> <td>  -14.117</td> <td> 0.000</td> <td> -618.380</td> <td> -467.588</td>\n",
       "</tr>\n",
       "<tr>\n",
       "  <th>sqft_living15</th> <td>   70.1844</td> <td>    4.789</td> <td>   14.655</td> <td> 0.000</td> <td>   60.796</td> <td>   79.573</td>\n",
       "</tr>\n",
       "<tr>\n",
       "  <th>sqft_lot15</th>    <td>   -0.2698</td> <td>    0.090</td> <td>   -3.014</td> <td> 0.003</td> <td>   -0.445</td> <td>   -0.094</td>\n",
       "</tr>\n",
       "<tr>\n",
       "  <th>month</th>         <td>-2615.1127</td> <td>  601.609</td> <td>   -4.347</td> <td> 0.000</td> <td>-3794.426</td> <td>-1435.800</td>\n",
       "</tr>\n",
       "<tr>\n",
       "  <th>rating</th>        <td> 1301.4573</td> <td> 2.67e+04</td> <td>    0.049</td> <td> 0.961</td> <td> -5.1e+04</td> <td> 5.36e+04</td>\n",
       "</tr>\n",
       "<tr>\n",
       "  <th>condition</th>     <td>  9.01e+04</td> <td> 2.69e+04</td> <td>    3.351</td> <td> 0.001</td> <td> 3.74e+04</td> <td> 1.43e+05</td>\n",
       "</tr>\n",
       "<tr>\n",
       "  <th>view</th>          <td> 4.628e+04</td> <td> 3318.536</td> <td>   13.946</td> <td> 0.000</td> <td> 3.98e+04</td> <td> 5.28e+04</td>\n",
       "</tr>\n",
       "</table>\n",
       "<table class=\"simpletable\">\n",
       "<tr>\n",
       "  <th>Omnibus:</th>       <td>1980.264</td> <th>  Durbin-Watson:     </th> <td>   2.036</td>\n",
       "</tr>\n",
       "<tr>\n",
       "  <th>Prob(Omnibus):</th>  <td> 0.000</td>  <th>  Jarque-Bera (JB):  </th> <td>9422.940</td>\n",
       "</tr>\n",
       "<tr>\n",
       "  <th>Skew:</th>           <td> 1.140</td>  <th>  Prob(JB):          </th> <td>    0.00</td>\n",
       "</tr>\n",
       "<tr>\n",
       "  <th>Kurtosis:</th>       <td> 7.851</td>  <th>  Cond. No.          </th> <td>3.02e+17</td>\n",
       "</tr>\n",
       "</table><br/><br/>Notes:<br/>[1] Standard Errors assume that the covariance matrix of the errors is correctly specified.<br/>[2] The smallest eigenvalue is 9.04e-22. This might indicate that there are<br/>strong multicollinearity problems or that the design matrix is singular."
      ],
      "text/plain": [
       "<class 'statsmodels.iolib.summary.Summary'>\n",
       "\"\"\"\n",
       "                            OLS Regression Results                            \n",
       "==============================================================================\n",
       "Dep. Variable:                  price   R-squared:                       0.663\n",
       "Model:                            OLS   Adj. R-squared:                  0.662\n",
       "Method:                 Least Squares   F-statistic:                     964.6\n",
       "Date:                Fri, 28 Oct 2022   Prob (F-statistic):               0.00\n",
       "Time:                        01:30:42   Log-Likelihood:            -1.0586e+05\n",
       "No. Observations:                7873   AIC:                         2.118e+05\n",
       "Df Residuals:                    7856   BIC:                         2.119e+05\n",
       "Df Model:                          16                                         \n",
       "Covariance Type:            nonrobust                                         \n",
       "=================================================================================\n",
       "                    coef    std err          t      P>|t|      [0.025      0.975]\n",
       "---------------------------------------------------------------------------------\n",
       "const          5.324e+07   3.77e+06     14.111      0.000    4.58e+07    6.06e+07\n",
       "waterfront     2.752e+05   2.64e+04     10.428      0.000    2.23e+05    3.27e+05\n",
       "bedrooms      -1.671e+04   2905.060     -5.752      0.000   -2.24e+04    -1.1e+04\n",
       "bathrooms      3.261e+04   4351.691      7.494      0.000    2.41e+04    4.11e+04\n",
       "sqft_living      69.7713      3.239     21.539      0.000      63.421      76.121\n",
       "sqft_lot          0.1068      0.065      1.652      0.099      -0.020       0.233\n",
       "floors        -2.566e+04   6019.572     -4.262      0.000   -3.75e+04   -1.39e+04\n",
       "sqft_above       48.7017      3.141     15.506      0.000      42.545      54.859\n",
       "sqft_basement    21.1141      3.607      5.854      0.000      14.044      28.185\n",
       "yr_built      -3214.4116    248.122    -12.955      0.000   -3700.797   -2728.026\n",
       "yr_renovated    711.6603    253.677      2.805      0.005     214.386    1208.935\n",
       "zipcode        -542.9841     38.462    -14.117      0.000    -618.380    -467.588\n",
       "sqft_living15    70.1844      4.789     14.655      0.000      60.796      79.573\n",
       "sqft_lot15       -0.2698      0.090     -3.014      0.003      -0.445      -0.094\n",
       "month         -2615.1127    601.609     -4.347      0.000   -3794.426   -1435.800\n",
       "rating         1301.4573   2.67e+04      0.049      0.961    -5.1e+04    5.36e+04\n",
       "condition       9.01e+04   2.69e+04      3.351      0.001    3.74e+04    1.43e+05\n",
       "view           4.628e+04   3318.536     13.946      0.000    3.98e+04    5.28e+04\n",
       "==============================================================================\n",
       "Omnibus:                     1980.264   Durbin-Watson:                   2.036\n",
       "Prob(Omnibus):                  0.000   Jarque-Bera (JB):             9422.940\n",
       "Skew:                           1.140   Prob(JB):                         0.00\n",
       "Kurtosis:                       7.851   Cond. No.                     3.02e+17\n",
       "==============================================================================\n",
       "\n",
       "Notes:\n",
       "[1] Standard Errors assume that the covariance matrix of the errors is correctly specified.\n",
       "[2] The smallest eigenvalue is 9.04e-22. This might indicate that there are\n",
       "strong multicollinearity problems or that the design matrix is singular.\n",
       "\"\"\""
      ]
     },
     "execution_count": 357,
     "metadata": {},
     "output_type": "execute_result"
    }
   ],
   "source": [
    "model = sm.OLS(endog=y_train, exog=sm.add_constant(Xtrain_processed)).fit()\n",
    "model.summary()"
   ]
  },
  {
   "cell_type": "code",
   "execution_count": 358,
   "metadata": {},
   "outputs": [
    {
     "name": "stdout",
     "output_type": "stream",
     "text": [
      "The correlation coefficient for the second model was: 0.6626762317509722\n",
      "The correlation coefficient for the test data on second model was: 0.6681164702094664\n",
      "The mean absolute error for the second model was: 116395.58976807592\n",
      "The mean squared error for the second model was: 164150.5006941399\n"
     ]
    }
   ],
   "source": [
    "lr.fit(Xtrain_processed,y_train)\n",
    "y_hat = lr.predict(Xtest_processed)\n",
    "\n",
    "print(f\"The correlation coefficient for the second model was: {lr.score(Xtrain_processed, y_train)}\")\n",
    "print(f\"The correlation coefficient for the test data on second model was: {lr.score(Xtest_processed, y_test)}\")\n",
    "print(f\"The mean absolute error for the second model was: {mean_absolute_error(y_test, y_hat)}\")\n",
    "print(f\"The mean squared error for the second model was: {mean_squared_error(y_test, y_hat,squared=False)}\")"
   ]
  },
  {
   "cell_type": "code",
   "execution_count": 359,
   "metadata": {},
   "outputs": [
    {
     "data": {
      "image/png": "[encoded data removed]",
      "text/plain": [
       "<Figure size 432x288 with 1 Axes>"
      ]
     },
     "execution_count": 359,
     "metadata": {},
     "output_type": "execute_result"
    },
    {
     "data": {
      "image/png": "[encoded data removed]",
      "text/plain": [
       "<Figure size 432x288 with 1 Axes>"
      ]
     },
     "metadata": {},
     "output_type": "display_data"
    }
   ],
   "source": [
    "y_hat = lr.predict(Xtest_processed)\n",
    "sm.graphics.qqplot(y_hat, dist=stats.norm, line='45', fit=True)"
   ]
  },
  {
   "cell_type": "markdown",
   "metadata": {},
   "source": [
    "Even though the correlation coefficient did increase, we are clearly still having significant errors. The model seems to decent at predicting houses in the mid-range of prices, but not well for cheap and expensive houses."
   ]
  },
  {
   "cell_type": "markdown",
   "metadata": {},
   "source": [
    "# MODEL 3"
   ]
  },
  {
   "cell_type": "markdown",
   "metadata": {},
   "source": [
    "In my third model, I wanted to see if taking into account the zipcode would have any affect on our prediction for price."
   ]
  },
  {
   "cell_type": "code",
   "execution_count": 360,
   "metadata": {},
   "outputs": [],
   "source": [
    "lr = LinearRegression()\n",
    "ohezip_train = ohe.fit_transform(Xtrain_processed[['zipcode']])\n",
    "ohezip_test = ohe.transform(Xtest_processed[['zipcode']])\n",
    "\n",
    "ohe_train = pd.DataFrame(ohezip_train, columns = ohe.get_feature_names_out())\n",
    "ohe_test = pd.DataFrame(ohezip_test, columns = ohe.get_feature_names_out())\n",
    "\n",
    "ohe_train.reset_index(inplace= True)\n",
    "ohe_test.reset_index(inplace=True)\n",
    "\n",
    "Xtrain_processed.reset_index(inplace=True)\n",
    "Xtest_processed.reset_index(inplace= True)\n",
    "\n",
    "\n",
    "final_x_train = pd.concat([Xtrain_processed, ohe_train], axis =1)\n",
    "final_x_test = pd.concat([Xtest_processed, ohe_test], axis =1)\n",
    "\n",
    "final_x_train.drop('zipcode', axis =1, inplace = True)\n",
    "final_x_test.drop('zipcode', axis =1, inplace = True)"
   ]
  },
  {
   "cell_type": "code",
   "execution_count": null,
   "metadata": {},
   "outputs": [],
   "source": []
  },
  {
   "cell_type": "code",
   "execution_count": 361,
   "metadata": {},
   "outputs": [
    {
     "data": {
      "text/plain": [
       "Index(['index', 'waterfront', 'bedrooms', 'bathrooms', 'sqft_living',\n",
       "       'sqft_lot', 'floors', 'sqft_above', 'sqft_basement', 'yr_built',\n",
       "       'yr_renovated', 'sqft_living15', 'sqft_lot15', 'month', 'rating',\n",
       "       'condition', 'view', 'index', 'zipcode_98002', 'zipcode_98003',\n",
       "       'zipcode_98004', 'zipcode_98005', 'zipcode_98006', 'zipcode_98007',\n",
       "       'zipcode_98008', 'zipcode_98010', 'zipcode_98011', 'zipcode_98014',\n",
       "       'zipcode_98019', 'zipcode_98022', 'zipcode_98023', 'zipcode_98024',\n",
       "       'zipcode_98027', 'zipcode_98028', 'zipcode_98029', 'zipcode_98030',\n",
       "       'zipcode_98031', 'zipcode_98032', 'zipcode_98033', 'zipcode_98034',\n",
       "       'zipcode_98038', 'zipcode_98039', 'zipcode_98040', 'zipcode_98042',\n",
       "       'zipcode_98045', 'zipcode_98052', 'zipcode_98053', 'zipcode_98055',\n",
       "       'zipcode_98056', 'zipcode_98058', 'zipcode_98059', 'zipcode_98065',\n",
       "       'zipcode_98070', 'zipcode_98072', 'zipcode_98074', 'zipcode_98075',\n",
       "       'zipcode_98077', 'zipcode_98092', 'zipcode_98146', 'zipcode_98148',\n",
       "       'zipcode_98155', 'zipcode_98166', 'zipcode_98168', 'zipcode_98177',\n",
       "       'zipcode_98178', 'zipcode_98188', 'zipcode_98198'],\n",
       "      dtype='object')"
      ]
     },
     "execution_count": 361,
     "metadata": {},
     "output_type": "execute_result"
    }
   ],
   "source": [
    "final_x_train.columns"
   ]
  },
  {
   "cell_type": "code",
   "execution_count": 362,
   "metadata": {},
   "outputs": [
    {
     "name": "stdout",
     "output_type": "stream",
     "text": [
      "The correlation coefficient for the third model was: 0.8678223911830577\n",
      "The correlation coefficient for the test data on third model was: 0.8666118102172106\n",
      "The mean absolute error for the third model was: 69883.59443422443\n",
      "The mean squared error for the third model was: 104065.80568622924\n"
     ]
    }
   ],
   "source": [
    "lr.fit(final_x_train, y_train)\n",
    "y_hat = lr.predict(final_x_test)\n",
    "\n",
    "print(f\"The correlation coefficient for the third model was: {lr.score(final_x_train,y_train)}\")\n",
    "print(f\"The correlation coefficient for the test data on third model was: {lr.score(final_x_test, y_test)}\")\n",
    "print(f\"The mean absolute error for the third model was: {mean_absolute_error(y_test, y_hat)}\")\n",
    "print(f\"The mean squared error for the third model was: {mean_squared_error(y_test, y_hat,squared=False)}\")"
   ]
  },
  {
   "cell_type": "code",
   "execution_count": 363,
   "metadata": {
    "scrolled": false
   },
   "outputs": [
    {
     "data": {
      "text/plain": [
       "Text(0.5, 1.0, 'Third Model QQ Plot')"
      ]
     },
     "execution_count": 363,
     "metadata": {},
     "output_type": "execute_result"
    },
    {
     "data": {
      "image/png": "[encoded data removed]",
      "text/plain": [
       "<Figure size 576x576 with 1 Axes>"
      ]
     },
     "metadata": {},
     "output_type": "display_data"
    }
   ],
   "source": [
    "fig,ax=plt.subplots(figsize=(8,8))\n",
    "sm.graphics.qqplot(y_hat, dist=stats.norm, line='45', fit=True,ax=ax)\n",
    "plt.title('Third Model QQ Plot')"
   ]
  },
  {
   "cell_type": "code",
   "execution_count": null,
   "metadata": {},
   "outputs": [],
   "source": []
  },
  {
   "cell_type": "markdown",
   "metadata": {},
   "source": [
    "We definitely see some improvement in this model, as the errors have decreased and the correlation coefficient has increased."
   ]
  },
  {
   "cell_type": "markdown",
   "metadata": {},
   "source": [
    "# MODEL 4"
   ]
  },
  {
   "cell_type": "markdown",
   "metadata": {},
   "source": [
    "In this model, I wanted to look at the distribution of price to make sure that we haven't been violating any assumptions of normality."
   ]
  },
  {
   "cell_type": "code",
   "execution_count": 364,
   "metadata": {},
   "outputs": [
    {
     "data": {
      "text/plain": [
       "''"
      ]
     },
     "execution_count": 364,
     "metadata": {},
     "output_type": "execute_result"
    },
    {
     "data": {
      "image/png": "[encoded data removed]",
      "text/plain": [
       "<Figure size 1008x720 with 2 Axes>"
      ]
     },
     "metadata": {},
     "output_type": "display_data"
    }
   ],
   "source": [
    "fig,ax =plt.subplots(nrows = 1, ncols=2,figsize=(14,10))\n",
    "sns.histplot(df['price'],kde=True, color=\"green\",ax=ax[0]).set(title = 'Original Price Distribution',xlabel = 'Price in Millions')\n",
    "sns.histplot(np.log(df['price']),kde=True, color=\"green\",ax=ax[1]).set(title='Normalized Price',xlabel = 'log(Price)')\n",
    "plt.ticklabel_format(style='plain', axis='x')\n",
    ";"
   ]
  },
  {
   "cell_type": "markdown",
   "metadata": {},
   "source": [
    "With this right skew in the price column, a log transformation (as seen in the graph on the right) works very well to normalize the price."
   ]
  },
  {
   "cell_type": "code",
   "execution_count": 365,
   "metadata": {},
   "outputs": [],
   "source": [
    "ohe = OneHotEncoder()\n",
    "\n",
    "ohezip_train = ohe.fit_transform(Xtrain_processed[['zipcode']])\n",
    "ohezip_test = ohe.transform(Xtest_processed[['zipcode']])\n",
    "\n",
    "ohe_train = pd.DataFrame(ohezip_train.todense(), columns = ohe.get_feature_names_out())\n",
    "ohe_test = pd.DataFrame(ohezip_test.todense(), columns = ohe.get_feature_names_out())\n",
    "\n",
    "ohe_train.reset_index(inplace= True)\n",
    "ohe_test.reset_index(inplace=True)\n",
    "\n",
    "final_x_train = pd.concat([Xtrain_processed, ohe_train], axis =1)\n",
    "final_x_test = pd.concat([Xtest_processed, ohe_test], axis =1)\n",
    "\n",
    "final_x_train.drop('zipcode', axis =1, inplace = True)\n",
    "final_x_test.drop('zipcode', axis =1, inplace = True)\n",
    "\n",
    "lr = LinearRegression()\n",
    "\n",
    "lr.fit(final_x_train, np.log(y_train))\n",
    "\n",
    "lr.score(final_x_train,np.log(y_train))\n",
    "y_hat = np.exp(lr.predict(final_x_test))\n"
   ]
  },
  {
   "cell_type": "code",
   "execution_count": 366,
   "metadata": {},
   "outputs": [
    {
     "name": "stdout",
     "output_type": "stream",
     "text": [
      "The correlation coefficient for the fourth model was: 0.8888044126933539\n",
      "The correlation coefficient for the test data on fourth model was: 0.8830716922328822\n",
      "The mean absolute error for the fourth model was: 61646.16336068811\n",
      "The mean squared error for the fourth model was: 107207.96042693054\n"
     ]
    }
   ],
   "source": [
    "print(f\"The correlation coefficient for the fourth model was: {lr.score(final_x_train,np.log(y_train))}\")\n",
    "print(f\"The correlation coefficient for the test data on fourth model was: {lr.score(final_x_test, np.log(y_test))}\")\n",
    "print(f\"The mean absolute error for the fourth model was: {mean_absolute_error(y_test, y_hat)}\")\n",
    "print(f\"The mean squared error for the fourth model was: {mean_squared_error(y_test, y_hat,squared=False)}\")"
   ]
  },
  {
   "cell_type": "code",
   "execution_count": 367,
   "metadata": {},
   "outputs": [
    {
     "data": {
      "image/png": "[encoded data removed]",
      "text/plain": [
       "<Figure size 576x576 with 1 Axes>"
      ]
     },
     "metadata": {},
     "output_type": "display_data"
    }
   ],
   "source": [
    "fig,ax=plt.subplots(figsize=(8,8))\n",
    "sm.graphics.qqplot(np.log(y_hat), dist=stats.norm, line='45', fit=True,ax=ax)\n",
    "plt.title('Fourth Model QQ Plot');"
   ]
  },
  {
   "cell_type": "markdown",
   "metadata": {},
   "source": [
    "Normalizing the price with a log transformation definitely has improved the model a lot"
   ]
  },
  {
   "cell_type": "markdown",
   "metadata": {},
   "source": [
    "# MODEL 5"
   ]
  },
  {
   "cell_type": "markdown",
   "metadata": {},
   "source": [
    "In this last model, I tried to get rid of as many of the squarefoot columns as possible. These columns are all inherently correlated with each other and could be adding error into our predictions."
   ]
  },
  {
   "cell_type": "code",
   "execution_count": 368,
   "metadata": {},
   "outputs": [],
   "source": [
    "final_x_train5 = final_x_train.drop(['sqft_above','sqft_lot15','sqft_basement','yr_renovated','rating','sqft_living15','month','index'],axis=1)\n",
    "final_x_test5 = final_x_test.drop(['sqft_above','sqft_lot15','sqft_basement','yr_renovated','rating','sqft_living15','month','index'],axis=1)\n",
    "\n",
    "lr = LinearRegression()\n",
    "\n",
    "lr.fit(final_x_train5, np.log(y_train))\n",
    "\n",
    "lr.score(final_x_train5,np.log(y_train))\n",
    "y_hat = np.exp(lr.predict(final_x_test5))\n"
   ]
  },
  {
   "cell_type": "code",
   "execution_count": 369,
   "metadata": {},
   "outputs": [
    {
     "name": "stdout",
     "output_type": "stream",
     "text": [
      "The correlation coefficient for the fifth model was: 0.8824826853518081\n",
      "The correlation coefficient for the test data on the fifth model was: 0.8774401127677905\n",
      "The mean absolute error for the fifth model was: 63776.510712902564\n",
      "The mean squared error for the fifth model was: 113147.92005458362\n"
     ]
    }
   ],
   "source": [
    "print(f\"The correlation coefficient for the fifth model was: {lr.score(final_x_train5,np.log(y_train))}\")\n",
    "print(f\"The correlation coefficient for the test data on the fifth model was: {lr.score(final_x_test5, np.log(y_test))}\")\n",
    "\n",
    "print(f\"The mean absolute error for the fifth model was: {mean_absolute_error(y_test, y_hat)}\")\n",
    "print(f\"The mean squared error for the fifth model was: {mean_squared_error(y_test, y_hat,squared=False)}\")"
   ]
  },
  {
   "cell_type": "code",
   "execution_count": 370,
   "metadata": {},
   "outputs": [
    {
     "data": {
      "image/png": "[encoded data removed]",
      "text/plain": [
       "<Figure size 576x576 with 1 Axes>"
      ]
     },
     "metadata": {},
     "output_type": "display_data"
    }
   ],
   "source": [
    "fig,ax = plt.subplots(figsize=(8,8))\n",
    "sm.graphics.qqplot(np.log(y_hat), dist=stats.norm, line='45', fit=True, ax=ax)\n",
    "plt.title('Fifth Model QQ Plot');"
   ]
  },
  {
   "cell_type": "code",
   "execution_count": 371,
   "metadata": {},
   "outputs": [
    {
     "data": {
      "text/plain": [
       "''"
      ]
     },
     "execution_count": 371,
     "metadata": {},
     "output_type": "execute_result"
    },
    {
     "data": {
      "image/png": "[encoded data removed]",
      "text/plain": [
       "<Figure size 720x720 with 1 Axes>"
      ]
     },
     "metadata": {},
     "output_type": "display_data"
    }
   ],
   "source": [
    "fig,ax =plt.subplots(nrows = 1, ncols=1,figsize=(10,10))\n",
    "sns.residplot(x=y_test,y=y_hat).set(title = 'Residual Plot for 5th Model',xlabel = 'Actual Price',ylabel='Predicted Price')\n",
    ";"
   ]
  },
  {
   "cell_type": "code",
   "execution_count": 372,
   "metadata": {},
   "outputs": [
    {
     "data": {
      "text/plain": [
       "Index(['waterfront', 'bedrooms', 'bathrooms', 'sqft_living', 'sqft_lot',\n",
       "       'floors', 'yr_built', 'condition', 'view', 'zipcode_98001',\n",
       "       'zipcode_98002', 'zipcode_98003', 'zipcode_98004', 'zipcode_98005',\n",
       "       'zipcode_98006', 'zipcode_98007', 'zipcode_98008', 'zipcode_98010',\n",
       "       'zipcode_98011', 'zipcode_98014', 'zipcode_98019', 'zipcode_98022',\n",
       "       'zipcode_98023', 'zipcode_98024', 'zipcode_98027', 'zipcode_98028',\n",
       "       'zipcode_98029', 'zipcode_98030', 'zipcode_98031', 'zipcode_98032',\n",
       "       'zipcode_98033', 'zipcode_98034', 'zipcode_98038', 'zipcode_98039',\n",
       "       'zipcode_98040', 'zipcode_98042', 'zipcode_98045', 'zipcode_98052',\n",
       "       'zipcode_98053', 'zipcode_98055', 'zipcode_98056', 'zipcode_98058',\n",
       "       'zipcode_98059', 'zipcode_98065', 'zipcode_98070', 'zipcode_98072',\n",
       "       'zipcode_98074', 'zipcode_98075', 'zipcode_98077', 'zipcode_98092',\n",
       "       'zipcode_98146', 'zipcode_98148', 'zipcode_98155', 'zipcode_98166',\n",
       "       'zipcode_98168', 'zipcode_98177', 'zipcode_98178', 'zipcode_98188',\n",
       "       'zipcode_98198'],\n",
       "      dtype='object')"
      ]
     },
     "execution_count": 372,
     "metadata": {},
     "output_type": "execute_result"
    }
   ],
   "source": [
    "final_x_train5.columns"
   ]
  },
  {
   "cell_type": "code",
   "execution_count": 373,
   "metadata": {},
   "outputs": [
    {
     "name": "stdout",
     "output_type": "stream",
     "text": [
      "Enter SF Living: \n"
     ]
    },
    {
     "ename": "ValueError",
     "evalue": "invalid literal for int() with base 10: ''",
     "output_type": "error",
     "traceback": [
      "\u001b[0;31m---------------------------------------------------------------------------\u001b[0m",
      "\u001b[0;31mValueError\u001b[0m                                Traceback (most recent call last)",
      "Input \u001b[0;32mIn [373]\u001b[0m, in \u001b[0;36m<cell line: 4>\u001b[0;34m()\u001b[0m\n\u001b[1;32m      1\u001b[0m input_df \u001b[38;5;241m=\u001b[39m pd\u001b[38;5;241m.\u001b[39mDataFrame(columns \u001b[38;5;241m=\u001b[39m final_x_train5\u001b[38;5;241m.\u001b[39mcolumns)\n\u001b[1;32m      3\u001b[0m \u001b[38;5;66;03m# input numerical value for each predictor, convert to int value\u001b[39;00m\n\u001b[0;32m----> 4\u001b[0m sqftliving_input \u001b[38;5;241m=\u001b[39m \u001b[38;5;28;43mint\u001b[39;49m\u001b[43m(\u001b[49m\u001b[38;5;28;43minput\u001b[39;49m\u001b[43m(\u001b[49m\u001b[38;5;124;43m\"\u001b[39;49m\u001b[38;5;124;43mEnter SF Living: \u001b[39;49m\u001b[38;5;124;43m\"\u001b[39;49m\u001b[43m)\u001b[49m\u001b[43m)\u001b[49m\n\u001b[1;32m      5\u001b[0m sqftliving15_input \u001b[38;5;241m=\u001b[39m \u001b[38;5;28mint\u001b[39m(\u001b[38;5;28minput\u001b[39m(\u001b[38;5;124m\"\u001b[39m\u001b[38;5;124mEnter SF Living 15: \u001b[39m\u001b[38;5;124m\"\u001b[39m))\n\u001b[1;32m      6\u001b[0m yrbuilt_input \u001b[38;5;241m=\u001b[39m \u001b[38;5;28mint\u001b[39m(\u001b[38;5;28minput\u001b[39m(\u001b[38;5;124m\"\u001b[39m\u001b[38;5;124mEnter Year Built: \u001b[39m\u001b[38;5;124m\"\u001b[39m))\n",
      "\u001b[0;31mValueError\u001b[0m: invalid literal for int() with base 10: ''"
     ]
    }
   ],
   "source": [
    "input_df = pd.DataFrame(columns = final_x_train5.columns)\n",
    "\n",
    "# input numerical value for each predictor, convert to int value\n",
    "sqftliving_input = int(input(\"Enter SF Living: \"))\n",
    "sqftliving15_input = int(input(\"Enter SF Living 15: \"))\n",
    "yrbuilt_input = int(input(\"Enter Year Built: \"))\n",
    "bedrooms = int(input(\"Number of Bedrooms: \"))\n",
    "bathrooms = int(input(\"Number of Bathrooms: \"))\n",
    "floors = int(input(\"Number of Floors: \"))\n",
    "view = int(input(\"Enter View Quality (0-4): \"))\n",
    "condition = int(input(\"Enter Condition Quality (1-9): \"))\n",
    "\n",
    "# assign input values to input_df columns\n",
    "input_df.loc[0, 'sqft_living' ] = sqftliving_input\n",
    "input_df.loc[0, 'sqft_living15' ] = sqftliving15_input\n",
    "input_df.loc[0, 'yr_built'] = yrbuilt_input\n",
    "input_df.loc[0, 'bathrooms' ] = bathrooms\n",
    "input_df.loc[0, 'bedrooms' ] = bedrooms\n",
    "input_df.loc[0, 'floors'] = floors\n",
    "input_df.loc[0, 'view' ] = view\n",
    "input_df.loc[0, 'condition'] = condition\n",
    "\n",
    "\n",
    "# create a function that assigns a value of 1 for an input zipcode if it exists in input_df\n",
    "zipcode_input = input(\"Enter zipcode: \")\n",
    "\n",
    "# creates list of zipcodes and assigns 0 to all zipcodes from the ohe \n",
    "available_zips = final_x_train5.columns\n",
    "input_df.loc[0, available_zips] = 0\n",
    "zipcode_input = int(zipcode_input)\n",
    "\n",
    "# assign 1 to applicable zipcode if it exists\n",
    "if zipcode_input in available_zips:\n",
    "    input_df.loc[0, zipcode_input] = 1\n",
    "    \n",
    "else:\n",
    "    print('Zipcode not applicable')\n",
    "    \n",
    "# provide price \n",
    "predict_price = np.exp(fourth_model_lr.predict(input_df))\n",
    "print()\n",
    "print('Predicted Sale Price: $', round(predict_price[0],2))"
   ]
  },
  {
   "cell_type": "code",
   "execution_count": null,
   "metadata": {},
   "outputs": [],
   "source": []
  }
 ],
 "metadata": {
  "kernelspec": {
   "display_name": "Python 3 (ipykernel)",
   "language": "python",
   "name": "python3"
  },
  "language_info": {
   "codemirror_mode": {
    "name": "ipython",
    "version": 3
   },
   "file_extension": ".py",
   "mimetype": "text/x-python",
   "name": "python",
   "nbconvert_exporter": "python",
   "pygments_lexer": "ipython3",
   "version": "3.9.12"
  }
 },
 "nbformat": 4,
 "nbformat_minor": 2
}
